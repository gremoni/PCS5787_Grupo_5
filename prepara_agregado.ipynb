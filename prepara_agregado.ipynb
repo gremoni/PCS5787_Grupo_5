{
  "nbformat": 4,
  "nbformat_minor": 0,
  "metadata": {
    "colab": {
      "name": "Untitled1.ipynb",
      "provenance": [],
      "collapsed_sections": [],
      "authorship_tag": "ABX9TyPivPgmXUQj3U/uayucP5QD",
      "include_colab_link": true
    },
    "kernelspec": {
      "name": "python3",
      "display_name": "Python 3"
    },
    "language_info": {
      "name": "python"
    }
  },
  "cells": [
    {
      "cell_type": "markdown",
      "metadata": {
        "id": "view-in-github",
        "colab_type": "text"
      },
      "source": [
        "<a href=\"https://colab.research.google.com/github/gremoni/PCS5787_Grupo_5/blob/main/prepara_agregado.ipynb\" target=\"_parent\"><img src=\"https://colab.research.google.com/assets/colab-badge.svg\" alt=\"Open In Colab\"/></a>"
      ]
    },
    {
      "cell_type": "code",
      "execution_count": 1,
      "metadata": {
        "id": "aDdHMvOX2Ywu"
      },
      "outputs": [],
      "source": [
        "# importa os pacotes necessários\n",
        "import pandas as pd\n",
        "from sklearn import preprocessing\n",
        "from sklearn.model_selection import train_test_split"
      ]
    },
    {
      "cell_type": "code",
      "source": [
        "# carrega a base de dados agregada do Zenodo\n",
        "df = pd.read_csv('https://zenodo.org/record/5774093/files/Agragado.csv?download=1')"
      ],
      "metadata": {
        "id": "oam9xtMu2xMw"
      },
      "execution_count": 2,
      "outputs": []
    },
    {
      "cell_type": "code",
      "source": [
        "#exclusão das colunas que apresentam apenas dados do hardware da estação (tensão da bateria e temperatura do CPU) e da coluna de Pressão Atmosférica Reduzida ao Nível do Mar, por apresentar uma grande quantidade de observações ausentes\n",
        "df = df.drop(['PRESSAOATMOSFERICAREDUZIDANIVELDOMAR', 'TENSAODABATERIADAESTACAO', 'TEMPERATURADACPUDAESTACAO'], 1)"
      ],
      "metadata": {
        "id": "Yf6rYVCT22oK"
      },
      "execution_count": 3,
      "outputs": []
    },
    {
      "cell_type": "code",
      "source": [
        "#exclusão das linhas que possuem dados faltantes\n",
        "df = df.dropna()"
      ],
      "metadata": {
        "id": "7XUJpyeI24TM"
      },
      "execution_count": 4,
      "outputs": []
    },
    {
      "cell_type": "code",
      "source": [
        "# cria uma nova coluna contendo o dado binário de ocorrência (1) ou não (0) de focos de incêndio\n",
        "def label_focos (row):\n",
        "   if row['Focos'] == 0 :\n",
        "      return 0\n",
        "   return 1\n",
        "\n",
        "df['Focos_bin'] = df.apply(lambda row: label_focos(row), axis=1)"
      ],
      "metadata": {
        "id": "KMvMD-4e28WJ"
      },
      "execution_count": 5,
      "outputs": []
    },
    {
      "cell_type": "code",
      "source": [
        "#cria o dataframe \"sim\" apenas com as observações binárias de foco iguais a 1\n",
        "sim = df[df['Focos_bin'] == 1]\n",
        "\n",
        "#cria o dataframe \"não\" apenas com as observações binárias de foco iguais a 0\n",
        "nao = df[df['Focos_bin'] == 0]"
      ],
      "metadata": {
        "id": "iAK9M-Pf2-TI"
      },
      "execution_count": 6,
      "outputs": []
    },
    {
      "cell_type": "code",
      "source": [
        "#cria o dataframe \"nao_bal\", selecionando do dataframe \"nao\" de maneira aleatória a mesma quantidade de linhas existentes no dataframe \"sim\" \n",
        "nao_bal = nao.sample(n = len(sim))"
      ],
      "metadata": {
        "id": "6hEggwbT3A3K"
      },
      "execution_count": 7,
      "outputs": []
    },
    {
      "cell_type": "code",
      "source": [
        "#cria o dataframe balanceado \"df_bal\", com a mesma quantidade de observações cujo atributo binário é 1 e 0 \n",
        "df_bal = pd.concat([sim, nao_bal])"
      ],
      "metadata": {
        "id": "yU5m8j4V3DY3"
      },
      "execution_count": 8,
      "outputs": []
    },
    {
      "cell_type": "code",
      "source": [
        "# cria o dataframe pronto para a modelegam envolvendo algoritmos de classificação binária, removendo as colunas de data, hora e número de focos \n",
        "dff = df_bal.drop(['Data', 'Hora', 'Focos'], 1)"
      ],
      "metadata": {
        "id": "OAHKuOvS3EvP"
      },
      "execution_count": 9,
      "outputs": []
    },
    {
      "cell_type": "code",
      "source": [
        "# separa o dataframe dff em dois dataframes: o X contendo os atributos para treinamento dos modelos e o y com a variável target (\"Focos_bin\")\n",
        "X = dff.loc[:, dff.columns != 'Focos_bin']\n",
        "y = dff.loc[:, dff.columns == 'Focos_bin']"
      ],
      "metadata": {
        "id": "xxgiXOEr3GMf"
      },
      "execution_count": 10,
      "outputs": []
    },
    {
      "cell_type": "code",
      "source": [
        "# normaliza as variáveis de treinamento\n",
        "X_norm = preprocessing.normalize(X)\n",
        "X_norm_df = pd.DataFrame(X_norm, columns=X.columns)"
      ],
      "metadata": {
        "id": "qLw-1FJO3H-H"
      },
      "execution_count": 11,
      "outputs": []
    },
    {
      "cell_type": "code",
      "source": [
        "# define as amostras de treino (88%) e de teste (12%)\n",
        "X_train, X_test, y_train, y_test = train_test_split(\n",
        "X_norm_df, y, train_size=0.88)"
      ],
      "metadata": {
        "id": "9hnOVkym3ReR"
      },
      "execution_count": 12,
      "outputs": []
    }
  ]
}