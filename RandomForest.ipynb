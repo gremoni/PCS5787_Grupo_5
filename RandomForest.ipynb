{
  "nbformat": 4,
  "nbformat_minor": 0,
  "metadata": {
    "colab": {
      "name": "Untitled0.ipynb",
      "provenance": [],
      "collapsed_sections": [],
      "authorship_tag": "ABX9TyMCOGkrEsmCJxdrYIzVtY7h",
      "include_colab_link": true
    },
    "kernelspec": {
      "name": "python3",
      "display_name": "Python 3"
    },
    "language_info": {
      "name": "python"
    }
  },
  "cells": [
    {
      "cell_type": "markdown",
      "metadata": {
        "id": "view-in-github",
        "colab_type": "text"
      },
      "source": [
        "<a href=\"https://colab.research.google.com/github/gremoni/PCS5787_Grupo_5/blob/main/RandomForest.ipynb\" target=\"_parent\"><img src=\"https://colab.research.google.com/assets/colab-badge.svg\" alt=\"Open In Colab\"/></a>"
      ]
    },
    {
      "cell_type": "code",
      "execution_count": 1,
      "metadata": {
        "id": "JmL-hdQkgZEO"
      },
      "outputs": [],
      "source": [
        "import pandas as pd\n",
        "from sklearn import preprocessing\n",
        "from sklearn.model_selection import train_test_split\n",
        "from sklearn.ensemble import RandomForestClassifier\n",
        "from sklearn.metrics import accuracy_score, precision_score, recall_score, f1_score, classification_report, confusion_matrix, roc_auc_score, roc_curve\n",
        "import matplotlib.pyplot as plt \n",
        "import seaborn as sn"
      ]
    },
    {
      "cell_type": "code",
      "source": [
        "df = pd.read_csv('https://zenodo.org/record/5774093/files/Agragado.csv?download=1')"
      ],
      "metadata": {
        "id": "eWO-OMX2ge8H"
      },
      "execution_count": 2,
      "outputs": []
    },
    {
      "cell_type": "code",
      "source": [
        "#exclusão das colunas que apresentam apenas dados do hardware da estação (tensão da bateria e temperatura do CPU) e da coluna de Pressão Atmosférica Reduzida ao Nível do Mar, por apresentar uma grande quantidade de observações ausentes\n",
        "df = df.drop(['PRESSAOATMOSFERICAREDUZIDANIVELDOMAR', 'TENSAODABATERIADAESTACAO', 'TEMPERATURADACPUDAESTACAO'], 1)"
      ],
      "metadata": {
        "id": "Zc9BId3Vg40E"
      },
      "execution_count": 3,
      "outputs": []
    },
    {
      "cell_type": "code",
      "source": [
        "#exclusão das linhas que possuem dados faltantes\n",
        "df = df.dropna()"
      ],
      "metadata": {
        "id": "dmUmAYeng_em"
      },
      "execution_count": 4,
      "outputs": []
    },
    {
      "cell_type": "code",
      "source": [
        "# cria uma nova coluna contendo o dado binário de ocorrência (1) ou não (0) de focos de incêndio\n",
        "def label_focos (row):\n",
        "   if row['Focos'] == 0 :\n",
        "      return 0\n",
        "   return 1\n",
        "\n",
        "df['Focos_bin'] = df.apply(lambda row: label_focos(row), axis=1)"
      ],
      "metadata": {
        "id": "2a-TPaU-hAD4"
      },
      "execution_count": 5,
      "outputs": []
    },
    {
      "cell_type": "code",
      "source": [
        "#cria o dataframe \"sim\" apenas com as observações binárias de foco iguais a 1\n",
        "sim = df[df['Focos_bin'] == 1]\n",
        "\n",
        "#cria o dataframe \"não\" apenas com as observações binárias de foco iguais a 0\n",
        "nao = df[df['Focos_bin'] == 0]"
      ],
      "metadata": {
        "id": "3ipwcZR4iStu"
      },
      "execution_count": 6,
      "outputs": []
    },
    {
      "cell_type": "code",
      "source": [
        "#cria o dataframe \"nao_bal\", selecionando do dataframe \"nao\" de maneira aleatória a mesma quantidade de linhas existentes no dataframe \"sim\" \n",
        "nao_bal = nao.sample(n = len(sim), random_state=0)"
      ],
      "metadata": {
        "id": "LPUQkBLsisUH"
      },
      "execution_count": 7,
      "outputs": []
    },
    {
      "cell_type": "code",
      "source": [
        "#cria o dataframe balanceado \"df_bal\", com a mesma quantidade de observações cujo atributo binário é 1 e 0 \n",
        "df_bal = pd.concat([sim, nao_bal])"
      ],
      "metadata": {
        "id": "K-LqKuUYnzpI"
      },
      "execution_count": 8,
      "outputs": []
    },
    {
      "cell_type": "code",
      "source": [
        "# cria o dataframe pronto para a modelegam envolvendo algoritmos de classificação binária, removendo as colunas de data e número de focos \n",
        "dff = df_bal.drop(['Data', 'Focos'], 1)"
      ],
      "metadata": {
        "id": "UyFH_ch5oGvJ"
      },
      "execution_count": 9,
      "outputs": []
    },
    {
      "cell_type": "code",
      "source": [
        "# separa o dataframe dff em dois dataframes: o X contendo os atributos para treinamento dos modelos e o y com a variável target (\"Focos_bin\")\n",
        "X = dff.loc[:, dff.columns != 'Focos_bin']\n",
        "y = dff.loc[:, dff.columns == 'Focos_bin']"
      ],
      "metadata": {
        "id": "9ChAV5RSoqOG"
      },
      "execution_count": 10,
      "outputs": []
    },
    {
      "cell_type": "code",
      "source": [
        "# normaliza as variáveis de treinamento\n",
        "X_norm = preprocessing.normalize(X, axis=0)\n",
        "\n",
        "#reescreve os nomes das colunas para melhor visualização\n",
        "names = X.columns\n",
        "X_norm_df = pd.DataFrame(X_norm, columns=names)"
      ],
      "metadata": {
        "id": "UVr96rIoz041"
      },
      "execution_count": 11,
      "outputs": []
    },
    {
      "cell_type": "code",
      "source": [
        "# define as amostras de treino (88%) e de teste (12%)\n",
        "X_train, X_test, y_train, y_test = train_test_split(\n",
        "X_norm_df, y, train_size=0.88)"
      ],
      "metadata": {
        "id": "rPSsSsywo7Ty"
      },
      "execution_count": 12,
      "outputs": []
    },
    {
      "cell_type": "code",
      "source": [
        "# cria o modelo Random Forest com os parâmetros \n",
        "rf = RandomForestClassifier(n_estimators=145,\n",
        "                             criterion='gini', \n",
        "                             max_depth=None, \n",
        "                             min_samples_split=10, \n",
        "                             min_samples_leaf=1, \n",
        "                             min_weight_fraction_leaf=0.0, \n",
        "                             max_features='auto', \n",
        "                             max_leaf_nodes=None, \n",
        "                             min_impurity_decrease=0.0, \n",
        "                             bootstrap=True, \n",
        "                             oob_score=False, \n",
        "                             n_jobs=-1, \n",
        "                             random_state=1, \n",
        "                             verbose=1, \n",
        "                             warm_start=False, \n",
        "                             class_weight=None, \n",
        "                             ccp_alpha=0.0, \n",
        "                             max_samples=None)"
      ],
      "metadata": {
        "id": "C6etxGBTpuzr"
      },
      "execution_count": 13,
      "outputs": []
    },
    {
      "cell_type": "code",
      "source": [
        "# realiza o treinamento do modelo classificador Random Forest por meio da amostra de treinamento\n",
        "rf.fit(X_train, y_train)"
      ],
      "metadata": {
        "id": "GRpwpodNqLyQ",
        "colab": {
          "base_uri": "https://localhost:8080/"
        },
        "outputId": "a0dc0d85-ee51-4203-c3b2-fec74e428182"
      },
      "execution_count": 14,
      "outputs": [
        {
          "output_type": "stream",
          "name": "stderr",
          "text": [
            "/usr/local/lib/python3.7/dist-packages/ipykernel_launcher.py:2: DataConversionWarning: A column-vector y was passed when a 1d array was expected. Please change the shape of y to (n_samples,), for example using ravel().\n",
            "  \n",
            "[Parallel(n_jobs=-1)]: Using backend ThreadingBackend with 2 concurrent workers.\n",
            "[Parallel(n_jobs=-1)]: Done  46 tasks      | elapsed:    0.4s\n",
            "[Parallel(n_jobs=-1)]: Done 145 out of 145 | elapsed:    1.2s finished\n"
          ]
        },
        {
          "output_type": "execute_result",
          "data": {
            "text/plain": [
              "RandomForestClassifier(min_samples_split=10, n_estimators=145, n_jobs=-1,\n",
              "                       random_state=1, verbose=1)"
            ]
          },
          "metadata": {},
          "execution_count": 14
        }
      ]
    },
    {
      "cell_type": "code",
      "source": [
        "# faz a classificação da amostra de teste com o modelo treinado\n",
        "classificacao = rf.predict(X_test)"
      ],
      "metadata": {
        "id": "yd64AZlrq8BQ",
        "colab": {
          "base_uri": "https://localhost:8080/"
        },
        "outputId": "35c9fac3-f85b-46bb-8012-1558d9a1b327"
      },
      "execution_count": 15,
      "outputs": [
        {
          "output_type": "stream",
          "name": "stderr",
          "text": [
            "[Parallel(n_jobs=2)]: Using backend ThreadingBackend with 2 concurrent workers.\n",
            "[Parallel(n_jobs=2)]: Done  46 tasks      | elapsed:    0.0s\n",
            "[Parallel(n_jobs=2)]: Done 145 out of 145 | elapsed:    0.1s finished\n"
          ]
        }
      ]
    },
    {
      "cell_type": "code",
      "source": [
        "print(\"Acurácia (treino): {0:.5f}\".format(rf.score(X_train, y_train)))\n",
        "\n",
        "print('Acurácia (teste): {:.5f}'.format(accuracy_score(y_test, classificacao)))\n",
        "print('Precisão (teste): {:.5f}'.format(precision_score(y_test, classificacao)))\n",
        "print('Revocação (teste): {:.5f}'.format(recall_score(y_test, classificacao)))\n",
        "print('F1: {:.5f}'.format(f1_score(y_test, classificacao)))\n",
        "\n",
        "print(\"Classification Report\")\n",
        "print(classification_report(y_test, classificacao))"
      ],
      "metadata": {
        "id": "e5UFxn5Uqkar",
        "colab": {
          "base_uri": "https://localhost:8080/"
        },
        "outputId": "7555159b-11da-48e7-d490-f6491ca89ebd"
      },
      "execution_count": 16,
      "outputs": [
        {
          "output_type": "stream",
          "name": "stderr",
          "text": [
            "[Parallel(n_jobs=2)]: Using backend ThreadingBackend with 2 concurrent workers.\n",
            "[Parallel(n_jobs=2)]: Done  46 tasks      | elapsed:    0.0s\n",
            "[Parallel(n_jobs=2)]: Done 145 out of 145 | elapsed:    0.1s finished\n"
          ]
        },
        {
          "output_type": "stream",
          "name": "stdout",
          "text": [
            "Acurácia (treino): 0.95485\n",
            "Acurácia (teste): 0.81406\n",
            "Precisão (teste): 0.79379\n",
            "Revocação (teste): 0.83881\n",
            "F1: 0.81567\n",
            "Classification Report\n",
            "              precision    recall  f1-score   support\n",
            "\n",
            "           0       0.84      0.79      0.81       348\n",
            "           1       0.79      0.84      0.82       335\n",
            "\n",
            "    accuracy                           0.81       683\n",
            "   macro avg       0.81      0.81      0.81       683\n",
            "weighted avg       0.82      0.81      0.81       683\n",
            "\n"
          ]
        }
      ]
    },
    {
      "cell_type": "code",
      "source": [
        ""
      ],
      "metadata": {
        "id": "v-xhHbYXUIXh"
      },
      "execution_count": 16,
      "outputs": []
    },
    {
      "cell_type": "code",
      "source": [
        "# Plota matriz de confusão\n",
        "matriz = confusion_matrix(y_test, classificacao)\n",
        "ax= plt.subplot()\n",
        "sn.heatmap(matriz, annot=True, fmt='g', ax=ax);  \n",
        "ax.set_xlabel('Classe predita');ax.set_ylabel('Classe real'); \n",
        "#ax.set_title('Matriz de confusão para ocorrência de incêndio'); \n",
        "ax.xaxis.set_ticklabels(['Sim (1)', 'Não (0)']); ax.yaxis.set_ticklabels(['Sim (1)', 'Não (0)']);"
      ],
      "metadata": {
        "colab": {
          "base_uri": "https://localhost:8080/",
          "height": 289
        },
        "id": "KSmnVUaVUyPd",
        "outputId": "0c8b9d0a-32e6-4442-dd1a-07568447d7a3"
      },
      "execution_count": 23,
      "outputs": [
        {
          "output_type": "display_data",
          "data": {
            "image/png": "[encoded data removed]",
            "text/plain": [
              "<Figure size 432x288 with 2 Axes>"
            ]
          },
          "metadata": {
            "needs_background": "light"
          }
        }
      ]
    },
    {
      "cell_type": "code",
      "source": [
        "# previsão probabilísica do atributo binário 1 (incêndio) para elaboração da curva ROC\n",
        "train_probs = rf.predict_proba(X_train)[:,1]\n",
        "probs = rf.predict_proba(X_test)[:, 1]\n",
        "train_predictions = rf.predict(X_train)"
      ],
      "metadata": {
        "id": "m37tt92nRqDx",
        "colab": {
          "base_uri": "https://localhost:8080/"
        },
        "outputId": "aa349670-dbdf-426c-a02f-c77164dfd61f"
      },
      "execution_count": 18,
      "outputs": [
        {
          "output_type": "stream",
          "name": "stderr",
          "text": [
            "[Parallel(n_jobs=2)]: Using backend ThreadingBackend with 2 concurrent workers.\n",
            "[Parallel(n_jobs=2)]: Done  46 tasks      | elapsed:    0.0s\n",
            "[Parallel(n_jobs=2)]: Done 145 out of 145 | elapsed:    0.1s finished\n",
            "[Parallel(n_jobs=2)]: Using backend ThreadingBackend with 2 concurrent workers.\n",
            "[Parallel(n_jobs=2)]: Done  46 tasks      | elapsed:    0.0s\n",
            "[Parallel(n_jobs=2)]: Done 145 out of 145 | elapsed:    0.1s finished\n",
            "[Parallel(n_jobs=2)]: Using backend ThreadingBackend with 2 concurrent workers.\n",
            "[Parallel(n_jobs=2)]: Done  46 tasks      | elapsed:    0.0s\n",
            "[Parallel(n_jobs=2)]: Done 145 out of 145 | elapsed:    0.1s finished\n"
          ]
        }
      ]
    },
    {
      "cell_type": "code",
      "source": [
        "def evaluate_model(classificacao, probs,train_predictions, train_probs):\n",
        "    baseline = {}\n",
        "    baseline['recall']=recall_score(y_test,\n",
        "                    [1 for _ in range(len(y_test))])\n",
        "    baseline['precision'] = precision_score(y_test,\n",
        "                    [1 for _ in range(len(y_test))])\n",
        "    baseline['roc'] = 0.5\n",
        "    results = {}\n",
        "    results['recall'] = recall_score(y_test, classificacao)\n",
        "    results['precision'] = precision_score(y_test, classificacao)\n",
        "    results['roc'] = roc_auc_score(y_test, probs)\n",
        "    train_results = {}\n",
        "    train_results['recall'] = recall_score(y_train,       train_predictions)\n",
        "    train_results['precision'] = precision_score(y_train, train_predictions)\n",
        "    train_results['roc'] = roc_auc_score(y_train, train_probs)\n",
        "\n",
        "    print(f'ROC AUC Score (Treino): {roc_auc_score(y_train, train_probs)}')\n",
        "    print(f'ROC AUC Score (Teste): {roc_auc_score(y_test, probs)}')\n",
        "\n",
        "\n",
        "    # Calculate false positive rates and true positive rates\n",
        "    base_fpr, base_tpr, _ = roc_curve(y_test, [1 for _ in range(len(y_test))])\n",
        "    model_fpr, model_tpr, _ = roc_curve(y_test, probs)\n",
        "    plt.figure(figsize = (8, 6))\n",
        "    plt.rcParams['font.size'] = 16\n",
        "    # Plot both curves\n",
        "    plt.plot(base_fpr, base_tpr, 'b', label = 'baseline')\n",
        "    plt.plot(model_fpr, model_tpr, 'r', label = 'modelo')\n",
        "    plt.legend();\n",
        "    plt.xlabel('Taxa de Falso Positivo');\n",
        "    plt.ylabel('Taxa de Verdadeiro Positivo'); plt.title('Curva ROC');\n",
        "    plt.show();\n",
        "evaluate_model(classificacao,probs,train_predictions,train_probs)\n",
        "\n",
        "\n"
      ],
      "metadata": {
        "id": "x_K13HOrSDJK",
        "colab": {
          "base_uri": "https://localhost:8080/",
          "height": 454
        },
        "outputId": "33a07dde-7e9d-4c42-f1aa-d44e7a842d2d"
      },
      "execution_count": 24,
      "outputs": [
        {
          "output_type": "stream",
          "name": "stdout",
          "text": [
            "ROC AUC Score (Treino): 0.9940181692062422\n",
            "ROC AUC Score (Teste): 0.8873434551381028\n"
          ]
        },
        {
          "output_type": "display_data",
          "data": {
            "image/png": "[encoded data removed]",
            "text/plain": [
              "<Figure size 576x432 with 1 Axes>"
            ]
          },
          "metadata": {
            "needs_background": "light"
          }
        }
      ]
    },
    {
      "cell_type": "code",
      "source": [
        ""
      ],
      "metadata": {
        "id": "iTFWxfzS9_oI"
      },
      "execution_count": 19,
      "outputs": []
    }
  ]
}